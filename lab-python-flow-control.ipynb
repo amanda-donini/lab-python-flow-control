{
 "cells": [
  {
   "cell_type": "markdown",
   "id": "d3bfc191-8885-42ee-b0a0-bbab867c6f9f",
   "metadata": {
    "tags": []
   },
   "source": [
    "# Lab | Flow Control"
   ]
  },
  {
   "cell_type": "markdown",
   "id": "3851fcd1-cf98-4653-9c89-e003b7ec9400",
   "metadata": {},
   "source": [
    "## Exercise: Managing Customer Orders Optimized\n",
    "\n",
    "In the last lab, you were starting an online store that sells various products. To ensure smooth operations, you developed a program that manages customer orders and inventory.\n",
    "\n",
    "You did so without using flow control. Let's go a step further and improve this code.\n",
    "\n",
    "Follow the steps below to complete the exercise:\n",
    "\n",
    "1. Look at your code from the lab data structures, and improve repeated code with loops.\n",
    "\n",
    "2. Instead of asking the user to input the name of three products that a customer wants to order, do the following:\n",
    "    \n",
    "    a. Prompt the user to enter the name of a product that a customer wants to order.\n",
    "    \n",
    "    b. Add the product name to the \"customer_orders\" set.\n",
    "    \n",
    "    c. Ask the user if they want to add another product (yes/no).\n",
    "    \n",
    "    d. Continue the loop until the user does not want to add another product.\n",
    "\n",
    "3. Instead of updating the inventory by subtracting 1 from the quantity of each product, only do it for  the products that were ordered (those in \"customer_orders\")."
   ]
  },
  {
   "cell_type": "code",
   "execution_count": 26,
   "id": "47d49845",
   "metadata": {},
   "outputs": [
    {
     "name": "stdout",
     "output_type": "stream",
     "text": [
      "Amount of items:\n",
      "{'t-shirt': 4, 'mug': 5, 'hat': 6, 'book': 7, 'keychain': 8}\n"
     ]
    }
   ],
   "source": [
    "quantity_of_product = 0\n",
    "# inventory = {}\n",
    "\n",
    "def products_in_the_store(products):\n",
    "    invetory = {}\n",
    "\n",
    "    for product in products:\n",
    "        quantity = int(input(f\"How many {product} do we have? \"))\n",
    "        quantity_of_product = quantity\n",
    "        invetory[product] = quantity_of_product\n",
    "        #print(invetory)\n",
    "        \n",
    "    return invetory\n",
    "\n",
    "products = (\"t-shirt\", \"mug\", \"hat\", \"book\", \"keychain\")\n",
    "\n",
    "inventory = products_in_the_store(products)\n",
    "print(\"Amount of items:\")\n",
    "print(inventory)\n",
    "\n",
    "\n",
    "# print(\"Amount of items:\")\n",
    "# for product, quantity in invetory.items():\n",
    "#     print(f\"{product}: {quantity}\")\n"
   ]
  },
  {
   "cell_type": "code",
   "execution_count": 27,
   "id": "560cdab4",
   "metadata": {},
   "outputs": [
    {
     "name": "stdout",
     "output_type": "stream",
     "text": [
      "Produts ordered:  {'keychain', 'book', 'hat', 't-shirt', 'mug'}\n",
      "Updated inventory: \n",
      "{'t-shirt': 3, 'mug': 4, 'hat': 5, 'book': 6, 'keychain': 7}\n"
     ]
    }
   ],
   "source": [
    "\n",
    "def orders():\n",
    "    customer_orders = set()\n",
    "\n",
    "    while True:\n",
    "        product = input(\"Type the name of the product that you want to order: \")\n",
    "        customer_orders.add(product)\n",
    "\n",
    "        another_product = input(\"Do you want to order something else? (yes/no): \")\n",
    "        if another_product.lower() != \"yes\":\n",
    "            break\n",
    "\n",
    "    print(\"Produts ordered: \", customer_orders)\n",
    "    return customer_orders\n",
    "\n",
    "\n",
    "customer_orders = orders()\n",
    "\n",
    "for product in customer_orders:\n",
    "    if product in inventory:\n",
    "        inventory[product] -= 1\n",
    "        #print(inventory)\n",
    "    else:\n",
    "        print(f\"{product} is not available in the inventory\")\n",
    "\n",
    "print(\"Updated inventory: \") \n",
    "print(inventory)   \n",
    "# for product, quantity in inventory.items():\n",
    "#     print(f\"{product}: {quantity}\")\n",
    "    \n",
    "\n",
    "# products_orders1 = input('1st from 3 products that you want to order: ')\n",
    "# products_orders2 = input('2nd from 3 products that you want to order: ')\n",
    "# products_orders3 = input('3rd from 3 products that you want to order: ')\n",
    "# customer_orders = {products_orders1, products_orders2, products_orders3}\n",
    "# customer_orders"
   ]
  },
  {
   "cell_type": "code",
   "execution_count": null,
   "id": "f5299132",
   "metadata": {},
   "outputs": [],
   "source": []
  },
  {
   "cell_type": "code",
   "execution_count": 28,
   "id": "f6790a26",
   "metadata": {},
   "outputs": [
    {
     "ename": "NameError",
     "evalue": "name 'total_products' is not defined",
     "output_type": "error",
     "traceback": [
      "\u001b[0;31m---------------------------------------------------------------------------\u001b[0m",
      "\u001b[0;31mNameError\u001b[0m                                 Traceback (most recent call last)",
      "\u001b[1;32m/Users/amandabrognolidonini/Desktop/[Ironhack]/lab-python-flow-control/lab-python-flow-control.ipynb Cell 6'\u001b[0m in \u001b[0;36m<cell line: 1>\u001b[0;34m()\u001b[0m\n\u001b[0;32m----> <a href='vscode-notebook-cell:/Users/amandabrognolidonini/Desktop/%5BIronhack%5D/lab-python-flow-control/lab-python-flow-control.ipynb#ch0000005?line=0'>1</a>\u001b[0m percentage_products_ordered \u001b[39m=\u001b[39m (\u001b[39m100\u001b[39m\u001b[39m*\u001b[39m\u001b[39mlen\u001b[39m(customer_orders))\u001b[39m/\u001b[39m(total_products)\n\u001b[1;32m      <a href='vscode-notebook-cell:/Users/amandabrognolidonini/Desktop/%5BIronhack%5D/lab-python-flow-control/lab-python-flow-control.ipynb#ch0000005?line=1'>2</a>\u001b[0m \u001b[39mprint\u001b[39m(percentage_products_ordered)\n",
      "\u001b[0;31mNameError\u001b[0m: name 'total_products' is not defined"
     ]
    }
   ],
   "source": [
    "percentage_products_ordered = (100*len(customer_orders))/(total_products)\n",
    "print(percentage_products_ordered)"
   ]
  },
  {
   "cell_type": "code",
   "execution_count": null,
   "id": "28ce7f10",
   "metadata": {},
   "outputs": [],
   "source": [
    "order_status = (total_products_ordered, percentage_products_ordered)"
   ]
  },
  {
   "cell_type": "code",
   "execution_count": null,
   "metadata": {},
   "outputs": [],
   "source": []
  }
 ],
 "metadata": {
  "kernelspec": {
   "display_name": "Python 3.10.6 64-bit",
   "language": "python",
   "name": "python3"
  },
  "language_info": {
   "codemirror_mode": {
    "name": "ipython",
    "version": 3
   },
   "file_extension": ".py",
   "mimetype": "text/x-python",
   "name": "python",
   "nbconvert_exporter": "python",
   "pygments_lexer": "ipython3",
   "version": "3.10.6"
  },
  "vscode": {
   "interpreter": {
    "hash": "aee8b7b246df8f9039afb4144a1f6fd8d2ca17a180786b69acc140d282b71a49"
   }
  }
 },
 "nbformat": 4,
 "nbformat_minor": 5
}
